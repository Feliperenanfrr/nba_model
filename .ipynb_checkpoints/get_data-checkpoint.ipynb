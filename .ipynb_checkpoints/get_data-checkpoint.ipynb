{
 "cells": [
  {
   "cell_type": "code",
   "execution_count": 1,
   "id": "d69014c0-9266-4c89-867b-29eefec97a98",
   "metadata": {},
   "outputs": [],
   "source": [
    "import os\n",
    "\n",
    "#SEASONS = list(range(2023, 2025))\n",
    "SEASONS = list(range(2025, 2026))\n",
    "\n",
    "DATA_DIR = \"data\"\n",
    "STANDINGS_DIR = os.path.join(DATA_DIR, \"standings\")\n",
    "SCORES_DIR = os.path.join(DATA_DIR, \"scores\")"
   ]
  },
  {
   "cell_type": "code",
   "execution_count": 2,
   "id": "ded5e28c-c7df-418e-8b15-a169a2f02111",
   "metadata": {},
   "outputs": [],
   "source": [
    "from bs4 import BeautifulSoup\n",
    "from playwright.async_api import async_playwright, TimeoutError as PlaywrightTimeout\n",
    "import time\n",
    "# Make sure to install playwright browsers by running playwright install on the command line or !playwright install from Jupyter"
   ]
  },
  {
   "cell_type": "code",
   "execution_count": 3,
   "id": "fb125fef-268f-4d50-a3db-ed798fe90369",
   "metadata": {},
   "outputs": [],
   "source": [
    "async def get_html(url, selector, sleep=5, retries=3):\n",
    "    html = None\n",
    "    for i in range(1, retries+1):\n",
    "        time.sleep(sleep * i)\n",
    "        try:\n",
    "            async with async_playwright() as p:\n",
    "                browser = await p.chromium.launch()\n",
    "                page = await browser.new_page()\n",
    "                await page.goto(url)\n",
    "                print(await page.title())\n",
    "                html = await page.inner_html(selector)\n",
    "        except PlaywrightTimeout:\n",
    "            print(f\"Timeout error on {url}\")\n",
    "            continue\n",
    "        else:\n",
    "            break\n",
    "    return html"
   ]
  },
  {
   "cell_type": "code",
   "execution_count": 4,
   "id": "5b810f31-5713-4d60-94b5-be2fbd0e0338",
   "metadata": {},
   "outputs": [],
   "source": [
    "async def scrape_season(season):\n",
    "    url = f\"https://www.basketball-reference.com/leagues/NBA_{season}_games.html\"\n",
    "    html = await get_html(url, \"#content .filter\")\n",
    "    \n",
    "    soup = BeautifulSoup(html)\n",
    "    links = soup.find_all(\"a\")\n",
    "    standings_pages = [f\"https://www.basketball-reference.com{l['href']}\" for l in links]\n",
    "    \n",
    "    for url in standings_pages:\n",
    "        save_path = os.path.join(STANDINGS_DIR, url.split(\"/\")[-1])\n",
    "        if os.path.exists(save_path):\n",
    "            continue\n",
    "        \n",
    "        html = await get_html(url, \"#all_schedule\")\n",
    "        with open(save_path, \"w+\") as f:\n",
    "            f.write(html)"
   ]
  },
  {
   "cell_type": "code",
   "execution_count": 5,
   "id": "fc42da87-4b10-4331-9fa0-aa2c29827289",
   "metadata": {},
   "outputs": [],
   "source": [
    "#for season in SEASONS:\n",
    "#   await scrape_season(season)"
   ]
  },
  {
   "cell_type": "code",
   "execution_count": 6,
   "id": "3baa481a-38fa-4045-a679-b02b1d92ef0a",
   "metadata": {},
   "outputs": [],
   "source": [
    "standings_files = os.listdir(STANDINGS_DIR)"
   ]
  },
  {
   "cell_type": "code",
   "execution_count": 7,
   "id": "8948c800-acbe-43c8-b213-f348eb11d4c7",
   "metadata": {},
   "outputs": [],
   "source": [
    "async def scrape_game(standings_file):\n",
    "    # Lê o arquivo HTML com a codificação padrão\n",
    "    with open(standings_file, 'r', encoding='utf-8') as f:\n",
    "        html = f.read()\n",
    "\n",
    "    # Analisa o conteúdo HTML\n",
    "    soup = BeautifulSoup(html, 'html.parser')\n",
    "    links = soup.find_all(\"a\")\n",
    "    hrefs = [l.get('href') for l in links]\n",
    "    box_scores = [f\"https://www.basketball-reference.com{l}\" for l in hrefs if l and \"boxscore\" in l and '.html' in l]\n",
    "\n",
    "    # Processa cada box score\n",
    "    for url in box_scores:\n",
    "        save_path = os.path.join(SCORES_DIR, url.split(\"/\")[-1])\n",
    "        \n",
    "        # Ignora se o arquivo já existe\n",
    "        if os.path.exists(save_path):\n",
    "            continue\n",
    "\n",
    "        # Obtém o conteúdo HTML da página\n",
    "        html = await get_html(url, \"#content\")\n",
    "        if not html:\n",
    "            continue\n",
    "\n",
    "        # Salva o conteúdo com codificação UTF-8\n",
    "        with open(save_path, \"w+\", encoding=\"utf-8\") as f:\n",
    "            f.write(html)"
   ]
  },
  {
   "cell_type": "code",
   "execution_count": 8,
   "id": "c6c23fb4-88af-4d34-87fd-8753e43fb4fe",
   "metadata": {},
   "outputs": [],
   "source": [
    "import pandas as pd\n",
    "\n",
    "for season in SEASONS:\n",
    "    files = [s for s in standings_files if str(season) in s]\n",
    "    \n",
    "    for f in files:\n",
    "        filepath = os.path.join(STANDINGS_DIR, f)\n",
    "        \n",
    "        await scrape_game(filepath)"
   ]
  },
  {
   "cell_type": "code",
   "execution_count": 10,
   "id": "f7db98c2-3fa9-4f67-b83b-cb547bd7700a",
   "metadata": {},
   "outputs": [
    {
     "name": "stdout",
     "output_type": "stream",
     "text": [
      "                 data horario          time_visitante              time_casa\n",
      "0   Thu, Dec 19, 2024   7:00p               Utah Jazz        Detroit Pistons\n",
      "1   Thu, Dec 19, 2024   7:00p   Oklahoma City Thunder          Orlando Magic\n",
      "2   Thu, Dec 19, 2024   7:00p       Charlotte Hornets     Washington Wizards\n",
      "3   Thu, Dec 19, 2024   7:30p           Chicago Bulls         Boston Celtics\n",
      "4   Thu, Dec 19, 2024   7:30p           Brooklyn Nets        Toronto Raptors\n",
      "..                ...     ...                     ...                    ...\n",
      "90  Tue, Dec 31, 2024   3:00p         Milwaukee Bucks         Indiana Pacers\n",
      "91  Tue, Dec 31, 2024   7:00p    Los Angeles Clippers      San Antonio Spurs\n",
      "92  Tue, Dec 31, 2024   8:00p  Minnesota Timberwolves  Oklahoma City Thunder\n",
      "93  Tue, Dec 31, 2024   9:00p     Cleveland Cavaliers     Los Angeles Lakers\n",
      "94  Tue, Dec 31, 2024   9:00p       Memphis Grizzlies           Phoenix Suns\n",
      "\n",
      "[95 rows x 4 columns]\n"
     ]
    },
    {
     "name": "stderr",
     "output_type": "stream",
     "text": [
      "C:\\Users\\guepp\\AppData\\Local\\Temp\\ipykernel_10996\\3578683354.py:18: DeprecationWarning: The 'text' argument to find()-type methods is deprecated. Use 'string' instead.\n",
      "  box_score_link = row.find(\"a\", href=True, text=\"Box Score\")\n"
     ]
    }
   ],
   "source": [
    "standings_file = \"NBA_2025_games-december.html\"\n",
    "\n",
    "def processar_jogos_futuros(standings_file):\n",
    "    # Lê o arquivo HTML com a codificação padrão\n",
    "    with open(standings_file, 'r', encoding='utf-8') as f:\n",
    "        html = f.read()\n",
    "\n",
    "    # Analisa o conteúdo HTML\n",
    "    soup = BeautifulSoup(html, 'html.parser')\n",
    "    \n",
    "    # Encontra todas as linhas da tabela\n",
    "    rows = soup.find_all(\"tr\")\n",
    "    \n",
    "    jogos_futuros = []\n",
    "    \n",
    "    for row in rows:\n",
    "        # Procura o link de \"box score\"\n",
    "        box_score_link = row.find(\"a\", href=True, text=\"Box Score\")\n",
    "        \n",
    "        # Se não houver \"box score\", é um jogo futuro\n",
    "        if not box_score_link:\n",
    "            cols = row.find_all(\"td\")\n",
    "            if not cols:\n",
    "                continue\n",
    "            \n",
    "            # Extrai as informações relevantes\n",
    "            jogo = {\n",
    "                \"data\": row.find(\"th\").text.strip() if row.find(\"th\") else None,\n",
    "                \"horario\": cols[0].text.strip() if len(cols) > 0 else None,\n",
    "                \"time_visitante\": cols[1].text.strip() if len(cols) > 1 else None,\n",
    "                \"time_casa\": cols[3].text.strip() if len(cols) > 3 else None\n",
    "            }\n",
    "            jogos_futuros.append(jogo)\n",
    "    \n",
    "    # Retorna os jogos futuros como um DataFrame\n",
    "    return pd.DataFrame(jogos_futuros)\n",
    "\n",
    "# Processa o arquivo do mês atual\n",
    "jogos_futuros = processar_jogos_futuros(os.path.join(STANDINGS_DIR, standings_file))\n",
    "\n",
    "# Exibe os jogos futuros\n",
    "print(jogos_futuros)\n",
    "\n",
    "# Salva os jogos futuros em CSV, se necessário\n",
    "jogos_futuros.to_csv(\"jogos_futuros_dezembro.csv\", index=False)"
   ]
  },
  {
   "cell_type": "code",
   "execution_count": null,
   "id": "2b8bc399-12e1-4e6b-b627-1dcf87f55dd8",
   "metadata": {},
   "outputs": [],
   "source": []
  }
 ],
 "metadata": {
  "kernelspec": {
   "display_name": "Python 3 (ipykernel)",
   "language": "python",
   "name": "python3"
  },
  "language_info": {
   "codemirror_mode": {
    "name": "ipython",
    "version": 3
   },
   "file_extension": ".py",
   "mimetype": "text/x-python",
   "name": "python",
   "nbconvert_exporter": "python",
   "pygments_lexer": "ipython3",
   "version": "3.12.4"
  }
 },
 "nbformat": 4,
 "nbformat_minor": 5
}
