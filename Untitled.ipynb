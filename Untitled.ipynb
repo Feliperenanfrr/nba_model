{
 "cells": [
  {
   "cell_type": "code",
   "execution_count": 2,
   "id": "66e3be4d-2ed0-4471-8db9-6a7752213bbe",
   "metadata": {},
   "outputs": [
    {
     "name": "stdout",
     "output_type": "stream",
     "text": [
      "Dados salvos em Games.csv\n"
     ]
    }
   ],
   "source": [
    "from nba_api.stats.endpoints import leaguegamefinder\n",
    "import pandas as pd\n",
    "\n",
    "# Filtra jogos da temporada regular\n",
    "gamefinder = leaguegamefinder.LeagueGameFinder(season_nullable='2023-24')\n",
    "games = gamefinder.get_data_frames()[0]\n",
    "\n",
    "# Salva como CSV\n",
    "games.to_csv('Games.csv', index=False)\n",
    "print(\"Dados salvos em Games.csv\")\n"
   ]
  },
  {
   "cell_type": "code",
   "execution_count": null,
   "id": "474d1c16-aee3-46b7-af83-41df3d680e79",
   "metadata": {},
   "outputs": [],
   "source": []
  }
 ],
 "metadata": {
  "kernelspec": {
   "display_name": "Python 3 (ipykernel)",
   "language": "python",
   "name": "python3"
  },
  "language_info": {
   "codemirror_mode": {
    "name": "ipython",
    "version": 3
   },
   "file_extension": ".py",
   "mimetype": "text/x-python",
   "name": "python",
   "nbconvert_exporter": "python",
   "pygments_lexer": "ipython3",
   "version": "3.12.7"
  }
 },
 "nbformat": 4,
 "nbformat_minor": 5
}
