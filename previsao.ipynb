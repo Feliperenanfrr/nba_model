{
 "cells": [
  {
   "cell_type": "code",
   "execution_count": 1,
   "id": "7fb17f5c-0b7a-4a25-afc6-fadd617deeaf",
   "metadata": {},
   "outputs": [],
   "source": [
    "import pandas as pd"
   ]
  },
  {
   "cell_type": "code",
   "execution_count": 2,
   "id": "1e731d34-bd9f-4e3b-8770-c17009b91526",
   "metadata": {},
   "outputs": [],
   "source": [
    "df = pd.read_csv('nba_games.csv', index_col=0)"
   ]
  },
  {
   "cell_type": "code",
   "execution_count": 3,
   "id": "f0330d2e-8620-4c87-98e6-7ba5b61293c1",
   "metadata": {},
   "outputs": [
    {
     "data": {
      "text/html": [
       "<div>\n",
       "<style scoped>\n",
       "    .dataframe tbody tr th:only-of-type {\n",
       "        vertical-align: middle;\n",
       "    }\n",
       "\n",
       "    .dataframe tbody tr th {\n",
       "        vertical-align: top;\n",
       "    }\n",
       "\n",
       "    .dataframe thead th {\n",
       "        text-align: right;\n",
       "    }\n",
       "</style>\n",
       "<table border=\"1\" class=\"dataframe\">\n",
       "  <thead>\n",
       "    <tr style=\"text-align: right;\">\n",
       "      <th></th>\n",
       "      <th>team_id_home</th>\n",
       "      <th>team_abbreviation_home</th>\n",
       "      <th>team_name_home</th>\n",
       "      <th>game_id</th>\n",
       "      <th>game_date</th>\n",
       "      <th>matchup_home</th>\n",
       "      <th>wl_home</th>\n",
       "      <th>min</th>\n",
       "      <th>fgm_home</th>\n",
       "      <th>fga_home</th>\n",
       "      <th>...</th>\n",
       "      <th>reb_away</th>\n",
       "      <th>ast_away</th>\n",
       "      <th>stl_away</th>\n",
       "      <th>blk_away</th>\n",
       "      <th>tov_away</th>\n",
       "      <th>pf_away</th>\n",
       "      <th>pts_away</th>\n",
       "      <th>plus_minus_away</th>\n",
       "      <th>video_available_away</th>\n",
       "      <th>season_type</th>\n",
       "    </tr>\n",
       "    <tr>\n",
       "      <th>season_id</th>\n",
       "      <th></th>\n",
       "      <th></th>\n",
       "      <th></th>\n",
       "      <th></th>\n",
       "      <th></th>\n",
       "      <th></th>\n",
       "      <th></th>\n",
       "      <th></th>\n",
       "      <th></th>\n",
       "      <th></th>\n",
       "      <th></th>\n",
       "      <th></th>\n",
       "      <th></th>\n",
       "      <th></th>\n",
       "      <th></th>\n",
       "      <th></th>\n",
       "      <th></th>\n",
       "      <th></th>\n",
       "      <th></th>\n",
       "      <th></th>\n",
       "      <th></th>\n",
       "    </tr>\n",
       "  </thead>\n",
       "  <tbody>\n",
       "    <tr>\n",
       "      <th>21946</th>\n",
       "      <td>1610610035</td>\n",
       "      <td>HUS</td>\n",
       "      <td>Toronto Huskies</td>\n",
       "      <td>24600001</td>\n",
       "      <td>1946-11-01 00:00:00</td>\n",
       "      <td>HUS vs. NYK</td>\n",
       "      <td>L</td>\n",
       "      <td>0</td>\n",
       "      <td>25.0</td>\n",
       "      <td>NaN</td>\n",
       "      <td>...</td>\n",
       "      <td>NaN</td>\n",
       "      <td>NaN</td>\n",
       "      <td>NaN</td>\n",
       "      <td>NaN</td>\n",
       "      <td>NaN</td>\n",
       "      <td>NaN</td>\n",
       "      <td>68.0</td>\n",
       "      <td>2</td>\n",
       "      <td>0</td>\n",
       "      <td>Regular Season</td>\n",
       "    </tr>\n",
       "    <tr>\n",
       "      <th>21946</th>\n",
       "      <td>1610610034</td>\n",
       "      <td>BOM</td>\n",
       "      <td>St. Louis Bombers</td>\n",
       "      <td>24600003</td>\n",
       "      <td>1946-11-02 00:00:00</td>\n",
       "      <td>BOM vs. PIT</td>\n",
       "      <td>W</td>\n",
       "      <td>0</td>\n",
       "      <td>20.0</td>\n",
       "      <td>59.0</td>\n",
       "      <td>...</td>\n",
       "      <td>NaN</td>\n",
       "      <td>NaN</td>\n",
       "      <td>NaN</td>\n",
       "      <td>NaN</td>\n",
       "      <td>NaN</td>\n",
       "      <td>25.0</td>\n",
       "      <td>51.0</td>\n",
       "      <td>-5</td>\n",
       "      <td>0</td>\n",
       "      <td>Regular Season</td>\n",
       "    </tr>\n",
       "    <tr>\n",
       "      <th>21946</th>\n",
       "      <td>1610610032</td>\n",
       "      <td>PRO</td>\n",
       "      <td>Providence Steamrollers</td>\n",
       "      <td>24600002</td>\n",
       "      <td>1946-11-02 00:00:00</td>\n",
       "      <td>PRO vs. BOS</td>\n",
       "      <td>W</td>\n",
       "      <td>0</td>\n",
       "      <td>21.0</td>\n",
       "      <td>NaN</td>\n",
       "      <td>...</td>\n",
       "      <td>NaN</td>\n",
       "      <td>NaN</td>\n",
       "      <td>NaN</td>\n",
       "      <td>NaN</td>\n",
       "      <td>NaN</td>\n",
       "      <td>NaN</td>\n",
       "      <td>53.0</td>\n",
       "      <td>-6</td>\n",
       "      <td>0</td>\n",
       "      <td>Regular Season</td>\n",
       "    </tr>\n",
       "    <tr>\n",
       "      <th>21946</th>\n",
       "      <td>1610610025</td>\n",
       "      <td>CHS</td>\n",
       "      <td>Chicago Stags</td>\n",
       "      <td>24600004</td>\n",
       "      <td>1946-11-02 00:00:00</td>\n",
       "      <td>CHS vs. NYK</td>\n",
       "      <td>W</td>\n",
       "      <td>0</td>\n",
       "      <td>21.0</td>\n",
       "      <td>NaN</td>\n",
       "      <td>...</td>\n",
       "      <td>NaN</td>\n",
       "      <td>NaN</td>\n",
       "      <td>NaN</td>\n",
       "      <td>NaN</td>\n",
       "      <td>NaN</td>\n",
       "      <td>22.0</td>\n",
       "      <td>47.0</td>\n",
       "      <td>-16</td>\n",
       "      <td>0</td>\n",
       "      <td>Regular Season</td>\n",
       "    </tr>\n",
       "    <tr>\n",
       "      <th>21946</th>\n",
       "      <td>1610610028</td>\n",
       "      <td>DEF</td>\n",
       "      <td>Detroit Falcons</td>\n",
       "      <td>24600005</td>\n",
       "      <td>1946-11-02 00:00:00</td>\n",
       "      <td>DEF vs. WAS</td>\n",
       "      <td>L</td>\n",
       "      <td>0</td>\n",
       "      <td>10.0</td>\n",
       "      <td>NaN</td>\n",
       "      <td>...</td>\n",
       "      <td>NaN</td>\n",
       "      <td>NaN</td>\n",
       "      <td>NaN</td>\n",
       "      <td>NaN</td>\n",
       "      <td>NaN</td>\n",
       "      <td>NaN</td>\n",
       "      <td>50.0</td>\n",
       "      <td>17</td>\n",
       "      <td>0</td>\n",
       "      <td>Regular Season</td>\n",
       "    </tr>\n",
       "    <tr>\n",
       "      <th>...</th>\n",
       "      <td>...</td>\n",
       "      <td>...</td>\n",
       "      <td>...</td>\n",
       "      <td>...</td>\n",
       "      <td>...</td>\n",
       "      <td>...</td>\n",
       "      <td>...</td>\n",
       "      <td>...</td>\n",
       "      <td>...</td>\n",
       "      <td>...</td>\n",
       "      <td>...</td>\n",
       "      <td>...</td>\n",
       "      <td>...</td>\n",
       "      <td>...</td>\n",
       "      <td>...</td>\n",
       "      <td>...</td>\n",
       "      <td>...</td>\n",
       "      <td>...</td>\n",
       "      <td>...</td>\n",
       "      <td>...</td>\n",
       "      <td>...</td>\n",
       "    </tr>\n",
       "    <tr>\n",
       "      <th>42022</th>\n",
       "      <td>1610612748</td>\n",
       "      <td>MIA</td>\n",
       "      <td>Miami Heat</td>\n",
       "      <td>42200403</td>\n",
       "      <td>2023-06-07 00:00:00</td>\n",
       "      <td>MIA vs. DEN</td>\n",
       "      <td>L</td>\n",
       "      <td>240</td>\n",
       "      <td>34.0</td>\n",
       "      <td>92.0</td>\n",
       "      <td>...</td>\n",
       "      <td>58.0</td>\n",
       "      <td>28.0</td>\n",
       "      <td>3.0</td>\n",
       "      <td>5.0</td>\n",
       "      <td>14.0</td>\n",
       "      <td>18.0</td>\n",
       "      <td>109.0</td>\n",
       "      <td>15</td>\n",
       "      <td>1</td>\n",
       "      <td>Playoffs</td>\n",
       "    </tr>\n",
       "    <tr>\n",
       "      <th>42022</th>\n",
       "      <td>1610612748</td>\n",
       "      <td>MIA</td>\n",
       "      <td>Miami Heat</td>\n",
       "      <td>42200404</td>\n",
       "      <td>2023-06-09 00:00:00</td>\n",
       "      <td>MIA vs. DEN</td>\n",
       "      <td>L</td>\n",
       "      <td>240</td>\n",
       "      <td>35.0</td>\n",
       "      <td>78.0</td>\n",
       "      <td>...</td>\n",
       "      <td>34.0</td>\n",
       "      <td>26.0</td>\n",
       "      <td>11.0</td>\n",
       "      <td>7.0</td>\n",
       "      <td>8.0</td>\n",
       "      <td>18.0</td>\n",
       "      <td>108.0</td>\n",
       "      <td>13</td>\n",
       "      <td>1</td>\n",
       "      <td>Playoffs</td>\n",
       "    </tr>\n",
       "    <tr>\n",
       "      <th>42022</th>\n",
       "      <td>1610612743</td>\n",
       "      <td>DEN</td>\n",
       "      <td>Denver Nuggets</td>\n",
       "      <td>42200405</td>\n",
       "      <td>2023-06-12 00:00:00</td>\n",
       "      <td>DEN vs. MIA</td>\n",
       "      <td>W</td>\n",
       "      <td>240</td>\n",
       "      <td>38.0</td>\n",
       "      <td>84.0</td>\n",
       "      <td>...</td>\n",
       "      <td>44.0</td>\n",
       "      <td>18.0</td>\n",
       "      <td>9.0</td>\n",
       "      <td>7.0</td>\n",
       "      <td>8.0</td>\n",
       "      <td>21.0</td>\n",
       "      <td>89.0</td>\n",
       "      <td>-5</td>\n",
       "      <td>1</td>\n",
       "      <td>Playoffs</td>\n",
       "    </tr>\n",
       "    <tr>\n",
       "      <th>32022</th>\n",
       "      <td>1610616834</td>\n",
       "      <td>LBN</td>\n",
       "      <td>Team LeBron</td>\n",
       "      <td>32200001</td>\n",
       "      <td>2023-02-19 00:00:00</td>\n",
       "      <td>LBN vs. GNS</td>\n",
       "      <td>L</td>\n",
       "      <td>221</td>\n",
       "      <td>79.0</td>\n",
       "      <td>132.0</td>\n",
       "      <td>...</td>\n",
       "      <td>46.0</td>\n",
       "      <td>43.0</td>\n",
       "      <td>8.0</td>\n",
       "      <td>1.0</td>\n",
       "      <td>12.0</td>\n",
       "      <td>2.0</td>\n",
       "      <td>184.0</td>\n",
       "      <td>9</td>\n",
       "      <td>1</td>\n",
       "      <td>All-Star</td>\n",
       "    </tr>\n",
       "    <tr>\n",
       "      <th>32022</th>\n",
       "      <td>1610616834</td>\n",
       "      <td>LBN</td>\n",
       "      <td>Team LeBron</td>\n",
       "      <td>32200001</td>\n",
       "      <td>2023-02-19 00:00:00</td>\n",
       "      <td>LBN vs. GNS</td>\n",
       "      <td>L</td>\n",
       "      <td>221</td>\n",
       "      <td>79.0</td>\n",
       "      <td>132.0</td>\n",
       "      <td>...</td>\n",
       "      <td>46.0</td>\n",
       "      <td>43.0</td>\n",
       "      <td>8.0</td>\n",
       "      <td>1.0</td>\n",
       "      <td>12.0</td>\n",
       "      <td>2.0</td>\n",
       "      <td>184.0</td>\n",
       "      <td>9</td>\n",
       "      <td>1</td>\n",
       "      <td>All Star</td>\n",
       "    </tr>\n",
       "  </tbody>\n",
       "</table>\n",
       "<p>65698 rows × 54 columns</p>\n",
       "</div>"
      ],
      "text/plain": [
       "           team_id_home team_abbreviation_home           team_name_home  \\\n",
       "season_id                                                                 \n",
       "21946        1610610035                    HUS          Toronto Huskies   \n",
       "21946        1610610034                    BOM        St. Louis Bombers   \n",
       "21946        1610610032                    PRO  Providence Steamrollers   \n",
       "21946        1610610025                    CHS            Chicago Stags   \n",
       "21946        1610610028                    DEF          Detroit Falcons   \n",
       "...                 ...                    ...                      ...   \n",
       "42022        1610612748                    MIA               Miami Heat   \n",
       "42022        1610612748                    MIA               Miami Heat   \n",
       "42022        1610612743                    DEN           Denver Nuggets   \n",
       "32022        1610616834                    LBN              Team LeBron   \n",
       "32022        1610616834                    LBN              Team LeBron   \n",
       "\n",
       "            game_id            game_date matchup_home wl_home  min  fgm_home  \\\n",
       "season_id                                                                      \n",
       "21946      24600001  1946-11-01 00:00:00  HUS vs. NYK       L    0      25.0   \n",
       "21946      24600003  1946-11-02 00:00:00  BOM vs. PIT       W    0      20.0   \n",
       "21946      24600002  1946-11-02 00:00:00  PRO vs. BOS       W    0      21.0   \n",
       "21946      24600004  1946-11-02 00:00:00  CHS vs. NYK       W    0      21.0   \n",
       "21946      24600005  1946-11-02 00:00:00  DEF vs. WAS       L    0      10.0   \n",
       "...             ...                  ...          ...     ...  ...       ...   \n",
       "42022      42200403  2023-06-07 00:00:00  MIA vs. DEN       L  240      34.0   \n",
       "42022      42200404  2023-06-09 00:00:00  MIA vs. DEN       L  240      35.0   \n",
       "42022      42200405  2023-06-12 00:00:00  DEN vs. MIA       W  240      38.0   \n",
       "32022      32200001  2023-02-19 00:00:00  LBN vs. GNS       L  221      79.0   \n",
       "32022      32200001  2023-02-19 00:00:00  LBN vs. GNS       L  221      79.0   \n",
       "\n",
       "           fga_home  ...  reb_away  ast_away  stl_away  blk_away  tov_away  \\\n",
       "season_id            ...                                                     \n",
       "21946           NaN  ...       NaN       NaN       NaN       NaN       NaN   \n",
       "21946          59.0  ...       NaN       NaN       NaN       NaN       NaN   \n",
       "21946           NaN  ...       NaN       NaN       NaN       NaN       NaN   \n",
       "21946           NaN  ...       NaN       NaN       NaN       NaN       NaN   \n",
       "21946           NaN  ...       NaN       NaN       NaN       NaN       NaN   \n",
       "...             ...  ...       ...       ...       ...       ...       ...   \n",
       "42022          92.0  ...      58.0      28.0       3.0       5.0      14.0   \n",
       "42022          78.0  ...      34.0      26.0      11.0       7.0       8.0   \n",
       "42022          84.0  ...      44.0      18.0       9.0       7.0       8.0   \n",
       "32022         132.0  ...      46.0      43.0       8.0       1.0      12.0   \n",
       "32022         132.0  ...      46.0      43.0       8.0       1.0      12.0   \n",
       "\n",
       "           pf_away  pts_away  plus_minus_away  video_available_away  \\\n",
       "season_id                                                             \n",
       "21946          NaN      68.0                2                     0   \n",
       "21946         25.0      51.0               -5                     0   \n",
       "21946          NaN      53.0               -6                     0   \n",
       "21946         22.0      47.0              -16                     0   \n",
       "21946          NaN      50.0               17                     0   \n",
       "...            ...       ...              ...                   ...   \n",
       "42022         18.0     109.0               15                     1   \n",
       "42022         18.0     108.0               13                     1   \n",
       "42022         21.0      89.0               -5                     1   \n",
       "32022          2.0     184.0                9                     1   \n",
       "32022          2.0     184.0                9                     1   \n",
       "\n",
       "              season_type  \n",
       "season_id                  \n",
       "21946      Regular Season  \n",
       "21946      Regular Season  \n",
       "21946      Regular Season  \n",
       "21946      Regular Season  \n",
       "21946      Regular Season  \n",
       "...                   ...  \n",
       "42022            Playoffs  \n",
       "42022            Playoffs  \n",
       "42022            Playoffs  \n",
       "32022            All-Star  \n",
       "32022            All Star  \n",
       "\n",
       "[65698 rows x 54 columns]"
      ]
     },
     "execution_count": 3,
     "metadata": {},
     "output_type": "execute_result"
    }
   ],
   "source": [
    "df"
   ]
  },
  {
   "cell_type": "code",
   "execution_count": 4,
   "id": "481eabaf-a6d5-4d08-930f-b807312cadba",
   "metadata": {},
   "outputs": [
    {
     "ename": "KeyError",
     "evalue": "'date'",
     "output_type": "error",
     "traceback": [
      "\u001b[1;31m---------------------------------------------------------------------------\u001b[0m",
      "\u001b[1;31mKeyError\u001b[0m                                  Traceback (most recent call last)",
      "\u001b[1;32m~\\AppData\\Local\\Temp\\ipykernel_3588\\2302465576.py\u001b[0m in \u001b[0;36m?\u001b[1;34m()\u001b[0m\n\u001b[1;32m----> 1\u001b[1;33m \u001b[0mdf\u001b[0m \u001b[1;33m=\u001b[0m \u001b[0mdf\u001b[0m\u001b[1;33m.\u001b[0m\u001b[0msort_values\u001b[0m\u001b[1;33m(\u001b[0m\u001b[1;34m'date'\u001b[0m\u001b[1;33m)\u001b[0m\u001b[1;33m\u001b[0m\u001b[1;33m\u001b[0m\u001b[0m\n\u001b[0m",
      "\u001b[1;32m~\\anaconda3\\Lib\\site-packages\\pandas\\core\\frame.py\u001b[0m in \u001b[0;36m?\u001b[1;34m(self, by, axis, ascending, inplace, kind, na_position, ignore_index, key)\u001b[0m\n\u001b[0;32m   7185\u001b[0m             \u001b[1;33m)\u001b[0m\u001b[1;33m\u001b[0m\u001b[1;33m\u001b[0m\u001b[0m\n\u001b[0;32m   7186\u001b[0m         \u001b[1;32melif\u001b[0m \u001b[0mlen\u001b[0m\u001b[1;33m(\u001b[0m\u001b[0mby\u001b[0m\u001b[1;33m)\u001b[0m\u001b[1;33m:\u001b[0m\u001b[1;33m\u001b[0m\u001b[1;33m\u001b[0m\u001b[0m\n\u001b[0;32m   7187\u001b[0m             \u001b[1;31m# len(by) == 1\u001b[0m\u001b[1;33m\u001b[0m\u001b[1;33m\u001b[0m\u001b[0m\n\u001b[0;32m   7188\u001b[0m \u001b[1;33m\u001b[0m\u001b[0m\n\u001b[1;32m-> 7189\u001b[1;33m             \u001b[0mk\u001b[0m \u001b[1;33m=\u001b[0m \u001b[0mself\u001b[0m\u001b[1;33m.\u001b[0m\u001b[0m_get_label_or_level_values\u001b[0m\u001b[1;33m(\u001b[0m\u001b[0mby\u001b[0m\u001b[1;33m[\u001b[0m\u001b[1;36m0\u001b[0m\u001b[1;33m]\u001b[0m\u001b[1;33m,\u001b[0m \u001b[0maxis\u001b[0m\u001b[1;33m=\u001b[0m\u001b[0maxis\u001b[0m\u001b[1;33m)\u001b[0m\u001b[1;33m\u001b[0m\u001b[1;33m\u001b[0m\u001b[0m\n\u001b[0m\u001b[0;32m   7190\u001b[0m \u001b[1;33m\u001b[0m\u001b[0m\n\u001b[0;32m   7191\u001b[0m             \u001b[1;31m# need to rewrap column in Series to apply key function\u001b[0m\u001b[1;33m\u001b[0m\u001b[1;33m\u001b[0m\u001b[0m\n\u001b[0;32m   7192\u001b[0m             \u001b[1;32mif\u001b[0m \u001b[0mkey\u001b[0m \u001b[1;32mis\u001b[0m \u001b[1;32mnot\u001b[0m \u001b[1;32mNone\u001b[0m\u001b[1;33m:\u001b[0m\u001b[1;33m\u001b[0m\u001b[1;33m\u001b[0m\u001b[0m\n",
      "\u001b[1;32m~\\anaconda3\\Lib\\site-packages\\pandas\\core\\generic.py\u001b[0m in \u001b[0;36m?\u001b[1;34m(self, key, axis)\u001b[0m\n\u001b[0;32m   1907\u001b[0m             \u001b[0mvalues\u001b[0m \u001b[1;33m=\u001b[0m \u001b[0mself\u001b[0m\u001b[1;33m.\u001b[0m\u001b[0mxs\u001b[0m\u001b[1;33m(\u001b[0m\u001b[0mkey\u001b[0m\u001b[1;33m,\u001b[0m \u001b[0maxis\u001b[0m\u001b[1;33m=\u001b[0m\u001b[0mother_axes\u001b[0m\u001b[1;33m[\u001b[0m\u001b[1;36m0\u001b[0m\u001b[1;33m]\u001b[0m\u001b[1;33m)\u001b[0m\u001b[1;33m.\u001b[0m\u001b[0m_values\u001b[0m\u001b[1;33m\u001b[0m\u001b[1;33m\u001b[0m\u001b[0m\n\u001b[0;32m   1908\u001b[0m         \u001b[1;32melif\u001b[0m \u001b[0mself\u001b[0m\u001b[1;33m.\u001b[0m\u001b[0m_is_level_reference\u001b[0m\u001b[1;33m(\u001b[0m\u001b[0mkey\u001b[0m\u001b[1;33m,\u001b[0m \u001b[0maxis\u001b[0m\u001b[1;33m=\u001b[0m\u001b[0maxis\u001b[0m\u001b[1;33m)\u001b[0m\u001b[1;33m:\u001b[0m\u001b[1;33m\u001b[0m\u001b[1;33m\u001b[0m\u001b[0m\n\u001b[0;32m   1909\u001b[0m             \u001b[0mvalues\u001b[0m \u001b[1;33m=\u001b[0m \u001b[0mself\u001b[0m\u001b[1;33m.\u001b[0m\u001b[0maxes\u001b[0m\u001b[1;33m[\u001b[0m\u001b[0maxis\u001b[0m\u001b[1;33m]\u001b[0m\u001b[1;33m.\u001b[0m\u001b[0mget_level_values\u001b[0m\u001b[1;33m(\u001b[0m\u001b[0mkey\u001b[0m\u001b[1;33m)\u001b[0m\u001b[1;33m.\u001b[0m\u001b[0m_values\u001b[0m\u001b[1;33m\u001b[0m\u001b[1;33m\u001b[0m\u001b[0m\n\u001b[0;32m   1910\u001b[0m         \u001b[1;32melse\u001b[0m\u001b[1;33m:\u001b[0m\u001b[1;33m\u001b[0m\u001b[1;33m\u001b[0m\u001b[0m\n\u001b[1;32m-> 1911\u001b[1;33m             \u001b[1;32mraise\u001b[0m \u001b[0mKeyError\u001b[0m\u001b[1;33m(\u001b[0m\u001b[0mkey\u001b[0m\u001b[1;33m)\u001b[0m\u001b[1;33m\u001b[0m\u001b[1;33m\u001b[0m\u001b[0m\n\u001b[0m\u001b[0;32m   1912\u001b[0m \u001b[1;33m\u001b[0m\u001b[0m\n\u001b[0;32m   1913\u001b[0m         \u001b[1;31m# Check for duplicates\u001b[0m\u001b[1;33m\u001b[0m\u001b[1;33m\u001b[0m\u001b[0m\n\u001b[0;32m   1914\u001b[0m         \u001b[1;32mif\u001b[0m \u001b[0mvalues\u001b[0m\u001b[1;33m.\u001b[0m\u001b[0mndim\u001b[0m \u001b[1;33m>\u001b[0m \u001b[1;36m1\u001b[0m\u001b[1;33m:\u001b[0m\u001b[1;33m\u001b[0m\u001b[1;33m\u001b[0m\u001b[0m\n",
      "\u001b[1;31mKeyError\u001b[0m: 'date'"
     ]
    }
   ],
   "source": [
    "df = df.sort_values('date')"
   ]
  },
  {
   "cell_type": "code",
   "execution_count": null,
   "id": "aa0350b5-3fba-4abb-9f4e-a7475066a89a",
   "metadata": {},
   "outputs": [],
   "source": [
    "df = df.reset_index(drop=True)"
   ]
  },
  {
   "cell_type": "code",
   "execution_count": null,
   "id": "04a052a9-179b-4f1f-bc91-a08fec90605a",
   "metadata": {},
   "outputs": [],
   "source": [
    "df"
   ]
  },
  {
   "cell_type": "code",
   "execution_count": null,
   "id": "5e533e04-1784-42d9-bc05-a0f8c9f75e98",
   "metadata": {},
   "outputs": [],
   "source": [
    "del df['mp_opp.1']\n",
    "del df['mp.1']\n",
    "del df['index_opp']"
   ]
  },
  {
   "cell_type": "code",
   "execution_count": null,
   "id": "d929e8ce-e516-4391-a3c5-35f8ad976c0f",
   "metadata": {},
   "outputs": [],
   "source": [
    "df"
   ]
  },
  {
   "cell_type": "code",
   "execution_count": null,
   "id": "96ae3de4-a79b-415b-8565-5009cf307993",
   "metadata": {},
   "outputs": [],
   "source": [
    "def add_target(team):\n",
    "    team['target'] = team['won'].shift(-1)\n",
    "    return team\n",
    "\n",
    "df = df.groupby('team', group_keys=False).apply(add_target)"
   ]
  },
  {
   "cell_type": "code",
   "execution_count": null,
   "id": "247a5653-e77b-417b-a48b-dab8a20eaf76",
   "metadata": {},
   "outputs": [],
   "source": [
    "df[df['team'] == 'DEN']"
   ]
  },
  {
   "cell_type": "code",
   "execution_count": null,
   "id": "63a9da95-50f2-4633-a70d-088bd3d8fec1",
   "metadata": {},
   "outputs": [],
   "source": [
    "df['target'][pd.isnull(df['target'])] = 2"
   ]
  },
  {
   "cell_type": "code",
   "execution_count": null,
   "id": "b2736451-2d11-4bdb-80ac-21d660f9201d",
   "metadata": {},
   "outputs": [],
   "source": [
    "df['target'] = df['target'].astype(int, errors='ignore')"
   ]
  },
  {
   "cell_type": "code",
   "execution_count": null,
   "id": "378bf24b-30ee-4fed-8b6b-23ad58fd838d",
   "metadata": {},
   "outputs": [],
   "source": [
    "df['won'].value_counts()"
   ]
  },
  {
   "cell_type": "code",
   "execution_count": null,
   "id": "c802d992-a590-4c1d-b13a-04d5c686867c",
   "metadata": {},
   "outputs": [],
   "source": [
    "df['target'].value_counts()"
   ]
  },
  {
   "cell_type": "code",
   "execution_count": null,
   "id": "c5e1f740-92f9-432f-8080-8a230e62a75b",
   "metadata": {},
   "outputs": [],
   "source": [
    "nulls = pd.isnull(df)"
   ]
  },
  {
   "cell_type": "code",
   "execution_count": null,
   "id": "dbfc09e7-1532-4355-a9d7-a63c234cb653",
   "metadata": {},
   "outputs": [],
   "source": [
    "nulls = nulls.sum()"
   ]
  },
  {
   "cell_type": "code",
   "execution_count": null,
   "id": "677bb2e7-f1ff-4075-91d3-1849b4354687",
   "metadata": {},
   "outputs": [],
   "source": [
    "nulls"
   ]
  },
  {
   "cell_type": "code",
   "execution_count": null,
   "id": "eb73c6ba-a22d-4f77-a33c-94ab0f6bedb8",
   "metadata": {},
   "outputs": [],
   "source": [
    "nulls = nulls[nulls > 0]"
   ]
  },
  {
   "cell_type": "code",
   "execution_count": null,
   "id": "77da1e11-1966-445a-a89e-080f672016a6",
   "metadata": {},
   "outputs": [],
   "source": [
    "valid_columns = df.columns[~df.columns.isin(nulls.index)]"
   ]
  },
  {
   "cell_type": "code",
   "execution_count": null,
   "id": "697ad9ff-77e6-4142-beb7-f151cf91c5fa",
   "metadata": {},
   "outputs": [],
   "source": [
    "valid_columns"
   ]
  },
  {
   "cell_type": "code",
   "execution_count": null,
   "id": "287ef896-d41e-48ef-953a-28d008ce0b77",
   "metadata": {},
   "outputs": [],
   "source": [
    " df = df[valid_columns].copy()"
   ]
  },
  {
   "cell_type": "code",
   "execution_count": null,
   "id": "07c5086e-affb-4751-942c-ddfd50cb010f",
   "metadata": {},
   "outputs": [],
   "source": [
    "df"
   ]
  },
  {
   "cell_type": "markdown",
   "id": "78ed09f7-80bb-4929-bb74-9bc55236238d",
   "metadata": {},
   "source": [
    "Até agora, nós limpamos e preparamos os dados para alimentar o modelo. Apartir de agora, começarei a treinar o modelo"
   ]
  },
  {
   "cell_type": "code",
   "execution_count": null,
   "id": "46eaee96-9828-4e8d-84b7-8350de7b9113",
   "metadata": {},
   "outputs": [],
   "source": [
    "from sklearn.model_selection import TimeSeriesSplit\n",
    "from sklearn.feature_selection import SequentialFeatureSelector\n",
    "from sklearn.linear_model import RidgeClassifier\n",
    "\n",
    "rr = RidgeClassifier(alpha=1)\n",
    "split = TimeSeriesSplit(n_splits=3)\n",
    "\n",
    "sfs = SequentialFeatureSelector(rr, n_features_to_select=30, direction='backward', cv=split)"
   ]
  },
  {
   "cell_type": "code",
   "execution_count": null,
   "id": "642e177a-aaaa-45c1-a079-017a27c7d965",
   "metadata": {},
   "outputs": [],
   "source": [
    "removed_columns = ['season', 'date', 'won', 'target', 'team', 'team_opp']"
   ]
  },
  {
   "cell_type": "code",
   "execution_count": null,
   "id": "95b99363-0bdb-4735-9e7e-60d4837a6026",
   "metadata": {},
   "outputs": [],
   "source": [
    "selected_columns = df.columns[~df.columns.isin(removed_columns)]"
   ]
  },
  {
   "cell_type": "code",
   "execution_count": null,
   "id": "884b7565-8d4a-4e6a-af44-79cf51b2a4c2",
   "metadata": {},
   "outputs": [],
   "source": [
    "selected_columns"
   ]
  },
  {
   "cell_type": "code",
   "execution_count": null,
   "id": "643cdc54-86f3-49e8-bc9c-2478d8ec130a",
   "metadata": {},
   "outputs": [],
   "source": [
    "from sklearn.preprocessing import MinMaxScaler\n",
    "\n",
    "scaler = MinMaxScaler()\n",
    "df[selected_columns] = scaler.fit_transform(df[selected_columns])"
   ]
  },
  {
   "cell_type": "code",
   "execution_count": null,
   "id": "8f5cfede-c39b-4d88-a407-59b741aef045",
   "metadata": {},
   "outputs": [],
   "source": [
    "df"
   ]
  },
  {
   "cell_type": "code",
   "execution_count": null,
   "id": "e7ac6fa6-7688-4387-b312-aa2ba75e4835",
   "metadata": {},
   "outputs": [],
   "source": [
    "sfs.fit(df[selected_columns], df['target'])"
   ]
  },
  {
   "cell_type": "code",
   "execution_count": null,
   "id": "4dc50d62-aeb4-479a-a32f-4a02f05a8574",
   "metadata": {},
   "outputs": [],
   "source": [
    "predictors = list(selected_columns[sfs.get_support()])"
   ]
  },
  {
   "cell_type": "code",
   "execution_count": null,
   "id": "c357c0e1-0aaf-4abd-a0fd-94beab30896f",
   "metadata": {},
   "outputs": [],
   "source": [
    "predictors"
   ]
  },
  {
   "cell_type": "code",
   "execution_count": null,
   "id": "f39a67f6-c5a2-4a7d-8acd-0401966219d0",
   "metadata": {},
   "outputs": [],
   "source": [
    "def backtest(data, model, predictors, start=2, step=1):\n",
    "    all_predictions = []\n",
    "\n",
    "    seasons = sorted(data['season'].unique())\n",
    "\n",
    "    for i in range(start, len(seasons), step):\n",
    "        season =  seasons[i]\n",
    "\n",
    "        train = data[data['season'] < season]\n",
    "        test = data[data['season'] == season]\n",
    "\n",
    "        model.fit(train[predictors], train['target'])\n",
    "\n",
    "        preds = model.predict(test[predictors])\n",
    "        preds = pd.Series(preds, index=test.index)\n",
    "\n",
    "        combined = pd.concat([test['target'], preds], axis=1)\n",
    "        combined.columns = ['actual', 'prediction']\n",
    "\n",
    "        all_predictions.append(combined)\n",
    "    return pd.concat(all_predictions)"
   ]
  },
  {
   "cell_type": "code",
   "execution_count": null,
   "id": "aadf244c-1155-48f9-b073-09fcb47feba4",
   "metadata": {},
   "outputs": [],
   "source": [
    "predictions = backtest(df, rr, predictors) "
   ]
  },
  {
   "cell_type": "code",
   "execution_count": null,
   "id": "037ed21d-5540-4ef2-9a75-4543aeb789cd",
   "metadata": {},
   "outputs": [],
   "source": [
    "predictions"
   ]
  },
  {
   "cell_type": "code",
   "execution_count": null,
   "id": "9df82b12-b52d-41f7-82d8-482576acf354",
   "metadata": {},
   "outputs": [],
   "source": [
    "from sklearn.metrics import accuracy_score\n",
    "\n",
    "predictions = predictions[predictions['actual'] != 2]\n",
    "accuracy_score(predictions['actual'], predictions['prediction'])"
   ]
  },
  {
   "cell_type": "markdown",
   "id": "4de78719-4914-4af8-8c17-b3efbbfaee86",
   "metadata": {},
   "source": [
    "Inicialmente o modelo não teve uma boa acurácia, 54.85%, os próximos blocos de código serão dedicados a melhorá-la "
   ]
  },
  {
   "cell_type": "code",
   "execution_count": null,
   "id": "381aaeaf-4f5b-435c-b27b-1a4de27bc3b8",
   "metadata": {},
   "outputs": [],
   "source": [
    "df.groupby([\"home\"]).apply(lambda x: x[x[\"won\"] == 1].shape[0] / x.shape[0])"
   ]
  },
  {
   "cell_type": "code",
   "execution_count": null,
   "id": "f46985ab-c6aa-43b9-b628-a1ab9e6cf4f2",
   "metadata": {},
   "outputs": [],
   "source": [
    "df"
   ]
  },
  {
   "cell_type": "code",
   "execution_count": null,
   "id": "89f8df7c-7366-44f4-8ea4-9c69f595c5ff",
   "metadata": {},
   "outputs": [],
   "source": [
    "df_rolling = df[list(selected_columns) + [\"won\", \"team\", \"season\"]]\n",
    "\n",
    "# Certifique-se de incluir apenas colunas numéricas no cálculo\n",
    "numeric_columns = df_rolling.select_dtypes(include='number').columns\n",
    "\n",
    "# Atualize a função para trabalhar apenas com colunas numéricas\n",
    "def find_team_averages(team):\n",
    "    # Aplicar rolling somente nas colunas numéricas\n",
    "    rolling = team[numeric_columns].rolling(10).mean()\n",
    "    return rolling\n",
    "\n",
    "# Agrupe e aplique a função corrigida\n",
    "df_rolling = df_rolling.groupby(['team', 'season'], group_keys=False).apply(find_team_averages)\n"
   ]
  },
  {
   "cell_type": "code",
   "execution_count": null,
   "id": "0a5ca8a1-3f75-4887-ac61-e8bc0ca14dd5",
   "metadata": {},
   "outputs": [],
   "source": [
    "df_rolling"
   ]
  },
  {
   "cell_type": "code",
   "execution_count": null,
   "id": "6130e11f-9785-4ae8-91ff-8a317cb381e5",
   "metadata": {},
   "outputs": [],
   "source": [
    "rolling_cols = [f'{col}_10' for col in df_rolling.columns]\n",
    "df_rolling.columns = rolling_cols\n",
    "\n",
    "df = pd.concat([df, df_rolling], axis=1)"
   ]
  },
  {
   "cell_type": "code",
   "execution_count": null,
   "id": "8c9bbc62-6661-4743-8bd6-c85a6e0f006b",
   "metadata": {},
   "outputs": [],
   "source": [
    "df"
   ]
  },
  {
   "cell_type": "code",
   "execution_count": null,
   "id": "b0b36ada-a6c5-408b-965e-071eb03ad4cc",
   "metadata": {},
   "outputs": [],
   "source": [
    "df = df.dropna()"
   ]
  },
  {
   "cell_type": "code",
   "execution_count": null,
   "id": "1dcf7b7c-7b4e-4ce7-ae2c-71e0ea32a5a9",
   "metadata": {},
   "outputs": [],
   "source": [
    "df"
   ]
  },
  {
   "cell_type": "code",
   "execution_count": null,
   "id": "b3577252-2510-458c-8d00-cb46fb932e3a",
   "metadata": {},
   "outputs": [],
   "source": [
    "def shift_col(team, col_name):\n",
    "    next_col = team[col_name].shift(-1)\n",
    "    return next_col\n",
    "\n",
    "def add_col(df, col_name): \n",
    "    return df.groupby('team', group_keys=False).apply(lambda x: shift_col(x, col_name))\n",
    "\n",
    "df['home_next'] = add_col(df, 'home')\n",
    "df['team_opp_next'] = add_col(df, 'team_opp')\n",
    "df['date_next'] = add_col(df, 'date')"
   ]
  },
  {
   "cell_type": "code",
   "execution_count": null,
   "id": "e345c57a-4f70-40a6-9a12-7a28c87f6184",
   "metadata": {},
   "outputs": [],
   "source": [
    "df = df.copy()"
   ]
  },
  {
   "cell_type": "code",
   "execution_count": null,
   "id": "d9029462-29d3-4d38-b507-260a91f693bb",
   "metadata": {},
   "outputs": [],
   "source": [
    "full = df.merge(\n",
    "    df[rolling_cols + [\"team_opp_next\", \"date_next\", \"team\"]], \n",
    "    left_on=[\"team\", \"date_next\"], right_on=[\"team_opp_next\", \"date_next\"])"
   ]
  },
  {
   "cell_type": "code",
   "execution_count": null,
   "id": "db019293-da18-4602-98b4-3c63768bda68",
   "metadata": {},
   "outputs": [],
   "source": [
    "full"
   ]
  },
  {
   "cell_type": "code",
   "execution_count": null,
   "id": "f404c903-dcfc-4608-beb8-fce52ffbb771",
   "metadata": {},
   "outputs": [],
   "source": [
    "full[[\"team_x\", \"team_opp_next_x\", \"team_y\", \"team_opp_next_y\", \"date_next\"]]"
   ]
  },
  {
   "cell_type": "code",
   "execution_count": null,
   "id": "0273cf2f-5011-459e-8d17-83620ba8ccda",
   "metadata": {},
   "outputs": [],
   "source": [
    " removed_columns = list(full.columns[full.dtypes == \"object\"]) + removed_columns"
   ]
  },
  {
   "cell_type": "code",
   "execution_count": null,
   "id": "e22014e1-0e9a-482c-9236-8a12d256331d",
   "metadata": {},
   "outputs": [],
   "source": [
    "removed_columns"
   ]
  },
  {
   "cell_type": "code",
   "execution_count": null,
   "id": "e57b64ba-40a5-436f-8890-4e481dc833b1",
   "metadata": {},
   "outputs": [],
   "source": [
    "selected_columns = full.columns[~full.columns.isin(removed_columns)]\n",
    "sfs.fit(full[selected_columns], full[\"target\"])"
   ]
  },
  {
   "cell_type": "code",
   "execution_count": null,
   "id": "b2ec8838-9f0e-447a-9ae4-0316e8abc3cf",
   "metadata": {},
   "outputs": [],
   "source": [
    "predictors = list(selected_columns[sfs.get_support()])\n",
    "predictors"
   ]
  },
  {
   "cell_type": "code",
   "execution_count": null,
   "id": "a88beb49-34ba-4dea-aa53-9d3bb8f7795c",
   "metadata": {},
   "outputs": [],
   "source": [
    "predictions = backtest(full, rr, predictors)"
   ]
  },
  {
   "cell_type": "code",
   "execution_count": null,
   "id": "9747416b-bb1b-4ecb-8f40-c8fed6ef2092",
   "metadata": {},
   "outputs": [],
   "source": [
    "accuracy_score(predictions[\"actual\"], predictions[\"prediction\"])"
   ]
  }
 ],
 "metadata": {
  "kernelspec": {
   "display_name": "Python 3 (ipykernel)",
   "language": "python",
   "name": "python3"
  },
  "language_info": {
   "codemirror_mode": {
    "name": "ipython",
    "version": 3
   },
   "file_extension": ".py",
   "mimetype": "text/x-python",
   "name": "python",
   "nbconvert_exporter": "python",
   "pygments_lexer": "ipython3",
   "version": "3.12.7"
  }
 },
 "nbformat": 4,
 "nbformat_minor": 5
}
